{
 "cells": [
  {
   "cell_type": "markdown",
   "metadata": {},
   "source": [
    "# Age Inference using ChronoFlow"
   ]
  },
  {
   "cell_type": "markdown",
   "metadata": {},
   "source": [
    "_To use this model, the *zuko* and *PyTorch* libraries must be installed. Refer to the README for more information._"
   ]
  },
  {
   "cell_type": "markdown",
   "metadata": {},
   "source": [
    "### 1. Loading the model"
   ]
  },
  {
   "cell_type": "markdown",
   "metadata": {},
   "source": [
    "First we import all of the necessary dependencies. For this tutorial, in addition to the pre-requisites listed in the main README file, we use ```scipy.special``` to help with the convolution of distributions."
   ]
  },
  {
   "cell_type": "code",
   "execution_count": null,
   "metadata": {},
   "outputs": [],
   "source": [
    "import sys\n",
    "sys.path.append('/Users/philvanlane/Documents/chronoflow/chronoflow')\n",
    "\n",
    "import numpy as np\n",
    "import zuko\n",
    "import matplotlib.pyplot as plt\n",
    "import torch\n",
    "import scipy.special as sp\n",
    "from utils import loadModel\n"
   ]
  },
  {
   "cell_type": "markdown",
   "metadata": {},
   "source": [
    "We then use zuko to build the model, using the weights file provided."
   ]
  },
  {
   "cell_type": "code",
   "execution_count": 52,
   "metadata": {},
   "outputs": [],
   "source": [
    "model = loadModel('../chronoflow/model_artifacts/weights.pth') # Path to the weights file; update as necessary"
   ]
  },
  {
   "cell_type": "markdown",
   "metadata": {},
   "source": [
    "### 2. Setting bounds and priors"
   ]
  },
  {
   "cell_type": "markdown",
   "metadata": {},
   "source": [
    "Our model is loaded. Now, to infer stellar ages, we need to specify the bounds in our parameter space that we want to evaluate our probabilities over. These can be adjusted, however we set these limits as conservative bounds."
   ]
  },
  {
   "cell_type": "code",
   "execution_count": 4,
   "metadata": {},
   "outputs": [],
   "source": [
    "bounds_logProt = [-1.75,2.5]    # Evaluation bounds in log P_rot\n",
    "bounds_BPRP0 = [-0.5,5]         # Evaluation bounds in (BP-RP)_0\n",
    "bounds_logA_Myr = [0,4.14]      # Evaluation bounds in log age (in Myr)"
   ]
  },
  {
   "cell_type": "markdown",
   "metadata": {},
   "source": [
    "We also set a conditional colour prior as described in Van-Lane et al. (2025), by convolving a uniform colour prior of the expected $(BP-RP)_0$ range with a Gaussian distribution corresponding to the photometric uncertainty."
   ]
  },
  {
   "cell_type": "code",
   "execution_count": 11,
   "metadata": {},
   "outputs": [],
   "source": [
    "# Setting uniform colour prior limits\n",
    "prior_BPRP0_lims = [-0.05,3.8]\n",
    "\n",
    "# Calculating prior conditioned on colour and photometric uncertaity\n",
    "def calcColourPrior(C0,sigma_C0,lim_low = prior_BPRP0_lims[0], lim_high = prior_BPRP0_lims[1]):\n",
    "    \"\"\"\n",
    "    Function to calculate the prior on (BP-RP)_0 given a colour and its uncertainty.\n",
    "    Parameters:\n",
    "    C0 : float\n",
    "        The observed de-reddened (BP-RP)_0 value.\n",
    "    sigma_C0 : float\n",
    "        The photometric uncertainty of the colour.\n",
    "    lim_low : float\n",
    "        The lower limit of the uniform (BP-RP)_0 distribution.\n",
    "    lim_high : float\n",
    "        The upper limit of the uniform (BP-RP)_0 distribution.\n",
    "    Returns:\n",
    "    prob_val : float\n",
    "        The probability value of the prior.\n",
    "    \"\"\"\n",
    "\n",
    "    mult_factor = 1 / ((lim_high-lim_low) * (np.sqrt(2 * np.pi * sigma_C0**2)))\n",
    "    int_const = -np.sqrt(np.pi/2) * sigma_C0\n",
    "    int_eval = (sp.erf((C0-lim_high)/(sigma_C0 * np.sqrt(2)))) - sp.erf((C0-lim_low)/(sigma_C0 * np.sqrt(2)))\n",
    "    prob_val = mult_factor * int_const * int_eval\n",
    "    \n",
    "    return prob_val"
   ]
  },
  {
   "cell_type": "markdown",
   "metadata": {},
   "source": [
    "We also use a function to describe our age prior that is uniform over the age of the Universe (in log space)."
   ]
  },
  {
   "cell_type": "code",
   "execution_count": 6,
   "metadata": {},
   "outputs": [],
   "source": [
    "def calcAgePrior(logA_Myr, lim_low = bounds_logA_Myr[0], lim_high = bounds_logA_Myr[1]):\n",
    "    \"\"\"\n",
    "    Function to calculate the prior on log age (in Myr) given a log age value.\n",
    "    Parameters:\n",
    "    logA_Myr : float\n",
    "        The log age value (in Myr).\n",
    "    lim_low : float\n",
    "        The lower limit of the uniform log age distribution.\n",
    "    lim_high : float\n",
    "        The upper limit of the uniform log age distribution.\n",
    "    Returns:\n",
    "    val : float\n",
    "        The probability value of the prior.\n",
    "    \"\"\"\n",
    "    prob_val = 1 / (lim_high - lim_low)\n",
    "    if (logA_Myr < lim_low) | (logA_Myr > lim_high):\n",
    "        return 0\n",
    "    else:\n",
    "        return prob_val"
   ]
  },
  {
   "cell_type": "markdown",
   "metadata": {},
   "source": [
    "Finally, we need to set the grid granularity of the age range that we are evaluating stellar age posteriors over. Here we use 1000 steps (in log space) over the age of the Universe."
   ]
  },
  {
   "cell_type": "code",
   "execution_count": 7,
   "metadata": {},
   "outputs": [],
   "source": [
    "logA_Myr_grid = np.linspace(bounds_logA_Myr[0], bounds_logA_Myr[1], 1000)"
   ]
  },
  {
   "cell_type": "markdown",
   "metadata": {},
   "source": [
    "### 3. Defining stellar age posterior calculations"
   ]
  },
  {
   "cell_type": "markdown",
   "metadata": {},
   "source": [
    "First we define a function to calculate the probability of $P_{rot}$ conditioned on age, de-reddened colour, and photometric uncertainty; this is what ChronoFlow models."
   ]
  },
  {
   "cell_type": "code",
   "execution_count": 10,
   "metadata": {},
   "outputs": [],
   "source": [
    "def calcLogLikelihood(logA_Myr,\n",
    "                 BPRP0,\n",
    "                 logProt,\n",
    "                 logCerr=-1.55,     # Median log photometric uncertainty across our catalogue\n",
    "                 P_clmem=1,         \n",
    "                 P_out=0.05,        \n",
    "                 model=model,\n",
    "                 logProt_lims=bounds_logProt,\n",
    "                ):\n",
    "    \"\"\"\n",
    "    Function to calculate the conditional probability of P_rot given age, colour and photometric uncertainty.\n",
    "    Parameters:\n",
    "    logA_Myr : float\n",
    "        The log age value (in Myr).\n",
    "    BPRP0 : float\n",
    "        The (BP-RP)_0 value.\n",
    "    logProt : float \n",
    "        The log P_rot value.\n",
    "    logCerr : float\n",
    "        The log photometric uncertainty.\n",
    "    P_clmem : float\n",
    "        The probability of the star being a cluster member (this should be set to 1 when analyzing any individual star).\n",
    "    P_out : float\n",
    "        The probability of the star not following the anticipated rotational evolution pattern (we default this to 0.05).\n",
    "    model : zuko.flows.NSF\n",
    "        The normalizing flow model.\n",
    "    Returns:\n",
    "    prob_comb : float\n",
    "        The conditional probability (as a natural log).\n",
    "    \"\"\"\n",
    "    \n",
    "    # Calculate weighting of normalizing flow likelihood\n",
    "    nf_weight = P_clmem * (1 - P_out)\n",
    "    \n",
    "    # Use model to evaluate probability\n",
    "    ind_params = torch.tensor([logA_Myr,BPRP0,logCerr],requires_grad=False).to(torch.float32)\n",
    "    cond_params = torch.tensor([logProt],requires_grad=False).to(torch.float32)\n",
    "    nf_prob = model(ind_params).log_prob(cond_params).detach().numpy().item()\n",
    "    \n",
    "    # Background (ie. non-cluster member) probability\n",
    "    bg_prob = np.log(1/(logProt_lims[1] - logProt_lims[0]))\n",
    "    \n",
    "    # Combine flow probability and background probability\n",
    "    prob_val = sp.logsumexp([nf_prob,bg_prob],b=[nf_weight,1-nf_weight])\n",
    "\n",
    "    return prob_val"
   ]
  },
  {
   "cell_type": "markdown",
   "metadata": {},
   "source": [
    "We now define a function to generate a posterior probability distribution over an age grid, given some observed data."
   ]
  },
  {
   "cell_type": "code",
   "execution_count": null,
   "metadata": {},
   "outputs": [],
   "source": [
    "\n",
    "def calcPostAge(logProt,\n",
    "                BPRP0,\n",
    "                logCerr=-1.55,\n",
    "                P_clmem=1,\n",
    "                P_out=0.05,\n",
    "                model=model,\n",
    "                logA_Myr_grid=logA_Myr_grid,\n",
    "                summary=False\n",
    "                ):\n",
    "\n",
    "    \"\"\"\n",
    "    Function to calculate the posterior probability of age given P_rot, colour and photometric uncertainty.\n",
    "    Parameters:\n",
    "    logProt : float\n",
    "        The log P_rot value.\n",
    "    BPRP0 : float\n",
    "        The (BP-RP)_0 value.\n",
    "    logCerr : float\n",
    "        The log photometric uncertainty.\n",
    "    P_clmem : float\n",
    "        The probability of the star being a cluster member (this should be set to 1 when analyzing any individual star).\n",
    "    P_out : float\n",
    "        The probability of the star not following the anticipated rotational evolution pattern (we default this to 0.05).\n",
    "    model : zuko.flows.NSF\n",
    "        The normalizing flow model.\n",
    "    logA_Myr_grid : np.ndarray\n",
    "        The grid of log ages (in Myr) to evaluate the posterior probability.\n",
    "    Returns:\n",
    "    post : np.ndarray\n",
    "        The posterior probability distribution of age.\n",
    "    medLogA : float\n",
    "        The median log age value (in yr).\n",
    "    logA_Err : float\n",
    "        The upper 1 sigma error on the log age value.\n",
    "    logA_err : float\n",
    "        The lower 1 sigma error on the log age value.\n",
    "    \"\"\"\n",
    "\n",
    "    logLikelihood = np.zeros(len(logA_Myr_grid))\n",
    "    logColourPrior = np.zeros(len(logA_Myr_grid))\n",
    "    logAgePrior = np.zeros(len(logA_Myr_grid))\n",
    "    logPost = np.zeros(len(logA_Myr_grid))\n",
    "\n",
    "    for i in range(len(logA_Myr_grid)):\n",
    "\n",
    "        # Log likelihood probability\n",
    "        logLikelihood[i] = calcLogLikelihood(logA_Myr=logA_Myr_grid[i],\n",
    "                                             logProt=logProt,\n",
    "                                              BPRP0=BPRP0,\n",
    "                                              logCerr=logCerr,\n",
    "                                              P_clmem=P_clmem,\n",
    "                                              P_out=P_out,\n",
    "                                              model=model,\n",
    "                                              logProt_lims=bounds_logProt)\n",
    "        \n",
    "        # Log colour prior probability\n",
    "        logColourPrior[i] = np.log(calcColourPrior(BPRP0,10**logCerr))\n",
    "\n",
    "        # Log age prior probability\n",
    "        logAgePrior[i] = np.log(calcAgePrior(logA_Myr_grid[i]))\n",
    "        \n",
    "        # Combine all to get posterior\n",
    "        logPost[i] = logLikelihood[i] + logColourPrior[i] + logAgePrior[i]\n",
    "\n",
    "    # Convert to probability and normalize\n",
    "    post = np.exp(logPost)\n",
    "    post /= np.trapz(post,logA_Myr_grid)\n",
    "\n",
    "    return post\n"
   ]
  },
  {
   "cell_type": "markdown",
   "metadata": {},
   "source": [
    "We can also define a function to return summary statistics, by sampling from the posterior distribution."
   ]
  },
  {
   "cell_type": "code",
   "execution_count": 45,
   "metadata": {},
   "outputs": [],
   "source": [
    "def getAgeSummStats(post,\n",
    "                    logA_Myr_grid=logA_Myr_grid,\n",
    "                    n=1000):\n",
    "    \"\"\"\n",
    "    Function to calculate the summary statistics of the posterior probability distribution.\n",
    "    Parameters:\n",
    "    post : np.ndarray\n",
    "        The posterior probability distribution of age.\n",
    "    n : int\n",
    "        The number of samples to use for the summary statistics.\n",
    "    Returns:\n",
    "    medLogA : float\n",
    "        The median log age value (in Myr).\n",
    "    logA_Err : float\n",
    "        The upper 1 sigma error on the log age value.\n",
    "    logA_err : float\n",
    "        The lower 1 sigma error on the log age value.\n",
    "    \"\"\"\n",
    "\n",
    "    # Draw samples\n",
    "    prob = post / np.sum(post)\n",
    "    indices = np.random.choice(len(logA_Myr_grid), size=n, p=prob)\n",
    "    samples = logA_Myr_grid[indices]\n",
    "\n",
    "    # Get summary stats\n",
    "    medLogA = np.median(samples)\n",
    "    p84 = np.percentile(samples, 84)\n",
    "    p16 = np.percentile(samples, 16)\n",
    "    logA_Err = p84 - medLogA\n",
    "    logA_err = p16 - medLogA\n",
    "\n",
    "    return medLogA, logA_Err, logA_err"
   ]
  },
  {
   "cell_type": "markdown",
   "metadata": {},
   "source": [
    "### 4. Putting it all together for stellar age inference!"
   ]
  },
  {
   "cell_type": "markdown",
   "metadata": {},
   "source": [
    "Let's take a random star as an example, having a period of 20 days, a $(BP-RP)_0$ colour of 1.5, and a photometric error on $(BP-RP)_0$ of 0.03."
   ]
  },
  {
   "cell_type": "code",
   "execution_count": 18,
   "metadata": {},
   "outputs": [],
   "source": [
    "Prot = 20\n",
    "BPRP0 = 1.5\n",
    "Cerr = 0.03"
   ]
  },
  {
   "cell_type": "markdown",
   "metadata": {},
   "source": [
    "Let's get the full age posterior for this star."
   ]
  },
  {
   "cell_type": "code",
   "execution_count": 46,
   "metadata": {},
   "outputs": [
    {
     "name": "stdout",
     "output_type": "stream",
     "text": [
      "Getting full posterior...\n"
     ]
    }
   ],
   "source": [
    "post = calcPostAge(logProt=np.log10(Prot),\n",
    "                   BPRP0=BPRP0,\n",
    "                   logCerr=np.log10(Cerr),\n",
    "                   summary=False)"
   ]
  },
  {
   "cell_type": "markdown",
   "metadata": {},
   "source": [
    "We can visualize the posterior over ages."
   ]
  },
  {
   "cell_type": "code",
   "execution_count": 47,
   "metadata": {},
   "outputs": [
    {
     "data": {
      "image/png": "[encoded data removed]",
      "text/plain": [
       "<Figure size 576x432 with 1 Axes>"
      ]
     },
     "metadata": {
      "needs_background": "light"
     },
     "output_type": "display_data"
    }
   ],
   "source": [
    "plt.figure(figsize=(8, 6))\n",
    "plt.plot(logA_Myr_grid, post, label='Posterior', color='darkblue')\n",
    "plt.xlabel('log Age (Myr)',fontsize=14)\n",
    "plt.ylabel('Probability Density',fontsize=14)\n",
    "plt.show()\n"
   ]
  },
  {
   "cell_type": "markdown",
   "metadata": {},
   "source": [
    "If we only want to get the estimated age value (along with uncertainties), we can get the summary statistics from the posterior."
   ]
  },
  {
   "cell_type": "code",
   "execution_count": 48,
   "metadata": {},
   "outputs": [
    {
     "name": "stdout",
     "output_type": "stream",
     "text": [
      "Inferred log age (Myr): 3.35 +0.06 -0.07\n"
     ]
    }
   ],
   "source": [
    "medLogA, logA_Err, logA_err = getAgeSummStats(post=post,\n",
    "                                               logA_Myr_grid=logA_Myr_grid)\n",
    "\n",
    "print(f'Inferred log age (Myr): {medLogA:.2f} +{logA_Err:.2f} -{-logA_err:.2f}')"
   ]
  }
 ],
 "metadata": {
  "kernelspec": {
   "display_name": "base",
   "language": "python",
   "name": "python3"
  },
  "language_info": {
   "codemirror_mode": {
    "name": "ipython",
    "version": 3
   },
   "file_extension": ".py",
   "mimetype": "text/x-python",
   "name": "python",
   "nbconvert_exporter": "python",
   "pygments_lexer": "ipython3",
   "version": "3.9.15"
  }
 },
 "nbformat": 4,
 "nbformat_minor": 2
}
